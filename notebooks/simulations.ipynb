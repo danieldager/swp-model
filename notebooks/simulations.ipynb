{
 "cells": [
  {
   "cell_type": "code",
   "execution_count": 2,
   "metadata": {},
   "outputs": [
    {
     "name": "stdout",
     "output_type": "stream",
     "text": [
      "Using MPS device\n"
     ]
    }
   ],
   "source": [
    "import os\n",
    "import sys\n",
    "import numpy as np\n",
    "import pandas as pd\n",
    "from ast import literal_eval\n",
    "pd.set_option('display.max_rows', None)\n",
    "\n",
    "current = os.getcwd()\n",
    "parent = os.path.dirname(current)\n",
    "sys.path.append(parent)\n",
    "\n",
    "from swp.utils.setup import seed_everything, set_device\n",
    "from swp.datasets.phonemes import get_phoneme_to_id\n",
    "from swp.utils.datasets import enrich_for_plotting, classify_error_positions\n",
    "\n",
    "seed_everything()\n",
    "device = set_device()\n",
    "phoneme_to_id = get_phoneme_to_id()\n"
   ]
  },
  {
   "cell_type": "code",
   "execution_count": 35,
   "metadata": {},
   "outputs": [
    {
     "name": "stdout",
     "output_type": "stream",
     "text": [
      "Condition\n",
      "RLCH    100\n",
      "RLCL    100\n",
      "RLSH    100\n",
      "RLSL    100\n",
      "RSCH    100\n",
      "RSCL    100\n",
      "RSSH    100\n",
      "RSSL    100\n",
      "PLC     100\n",
      "PLS     100\n",
      "PSC     100\n",
      "PSS     100\n",
      "Name: count, dtype: int64\n",
      "Lexicality\n",
      "real      800\n",
      "pseudo    400\n",
      "Name: count, dtype: int64\n",
      "Size\n",
      "long     600\n",
      "short    600\n",
      "Name: count, dtype: int64\n",
      "Morphology\n",
      "complex    600\n",
      "simple     600\n",
      "Name: count, dtype: int64\n",
      "Frequency\n",
      "high    400\n",
      "low     400\n",
      "Name: count, dtype: int64\n"
     ]
    }
   ],
   "source": [
    "rlch = pd.read_csv(\"./evaluation/rlch.csv\").sample(100)\n",
    "rlcl = pd.read_csv(\"./evaluation/rlcl.csv\").sample(100)\n",
    "rlsh = pd.read_csv(\"./evaluation/rlsh.csv\").sample(100)\n",
    "rlsl = pd.read_csv(\"./evaluation/rlsl.csv\").sample(100)\n",
    "rsch = pd.read_csv(\"./evaluation/rsch.csv\").sample(100)\n",
    "rscl = pd.read_csv(\"./evaluation/rscl.csv\").sample(100)\n",
    "rssh = pd.read_csv(\"./evaluation/rssh.csv\").sample(100)\n",
    "rssl = pd.read_csv(\"./evaluation/rssl.csv\").sample(100)\n",
    "\n",
    "plc = pd.read_csv(\"./evaluation/plc.csv\").sample(100)\n",
    "pls = pd.read_csv(\"./evaluation/pls.csv\").sample(100)\n",
    "psc = pd.read_csv(\"./evaluation/psc.csv\").sample(100)\n",
    "pss = pd.read_csv(\"./evaluation/pss.csv\").sample(100)\n",
    "\n",
    "# concatenate all the datasets\n",
    "test_equalized = pd.concat([rlch, rlcl, rlsh, rlsl, rsch, rscl, rssh, rssl, plc, pls, psc, pss], ignore_index=True)\n",
    "\n",
    "order = [\n",
    "    \"Word\", \"Condition\", \"Lexicality\", \"Size\", \"Morphology\",\n",
    "    \"Frequency\", \"Length\", \"Zipf Frequency\", \"Phonemes\",\n",
    "    \"No Stress\", \"Part of Speech\", \"Root\", \"Lemma\", \"Zipf Lemma Frequency\"\n",
    "]\n",
    "\n",
    "test_equalized = test_equalized[order]\n",
    "print(test_equalized[\"Condition\"].value_counts())"
   ]
  }
 ],
 "metadata": {
  "kernelspec": {
   "display_name": "swpm2",
   "language": "python",
   "name": "python3"
  },
  "language_info": {
   "codemirror_mode": {
    "name": "ipython",
    "version": 3
   },
   "file_extension": ".py",
   "mimetype": "text/x-python",
   "name": "python",
   "nbconvert_exporter": "python",
   "pygments_lexer": "ipython3",
   "version": "3.10.16"
  }
 },
 "nbformat": 4,
 "nbformat_minor": 2
}
