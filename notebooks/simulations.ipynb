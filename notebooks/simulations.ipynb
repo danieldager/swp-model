{
 "cells": [
  {
   "cell_type": "code",
   "execution_count": 2,
   "metadata": {},
   "outputs": [
    {
     "name": "stdout",
     "output_type": "stream",
     "text": [
      "Using MPS device\n"
     ]
    }
   ],
   "source": [
    "import os\n",
    "import sys\n",
    "import pandas as pd\n",
    "pd.set_option('display.max_rows', None)\n",
    "\n",
    "current = os.getcwd()\n",
    "parent = os.path.dirname(current)\n",
    "sys.path.append(parent)\n",
    "\n",
    "from swp.utils.setup import seed_everything, set_device\n",
    "from swp.datasets.phonemes import get_phoneme_to_id\n",
    "\n",
    "seed_everything()\n",
    "device = set_device()\n",
    "phoneme_to_id = get_phoneme_to_id()\n"
   ]
  },
  {
   "cell_type": "code",
   "execution_count": null,
   "metadata": {},
   "outputs": [
    {
     "name": "stdout",
     "output_type": "stream",
     "text": [
      "11000\n",
      "10239\n"
     ]
    }
   ],
   "source": [
    "from ast import literal_eval\n",
    "\n",
    "complete_train = pd.read_csv(\"../stimuli/dataframe/complete_train.csv\")\n",
    "raw_pseudo = pd.read_csv(\"../stimuli/handmade/test_data/raw_pseudo.csv\")\n",
    "print(len(raw_pseudo))\n",
    "\n",
    "# filter out all words that are in the train set\n",
    "raw_pseudo = raw_pseudo[~raw_pseudo[\"Word\"].isin(complete_train[\"Word\"])]\n",
    "print(len(raw_pseudo))\n",
    "\n",
    "\n",
    "\n"
   ]
  },
  {
   "cell_type": "markdown",
   "metadata": {},
   "source": [
    "### Generating Evaluation Dataset"
   ]
  },
  {
   "cell_type": "code",
   "execution_count": null,
   "metadata": {},
   "outputs": [],
   "source": [
    "from ast import literal_eval\n",
    "\n",
    "complete_train = pd.read_csv(\"../stimuli/dataframe/complete_train.csv\")\n",
    "complete_train[\"Lexicality\"] = \"real\"\n",
    "complete_train[\"Phonemes\"] = complete_train[\"Phonemes\"].apply(literal_eval)\n",
    "complete_train[\"Length\"] = complete_train[\"Phonemes\"].apply(len)\n",
    "\n",
    "# divide by length\n",
    "short = complete_train.query(\"2 < Length < 6\")\n",
    "long = complete_train.query(\"6 < Length < 10\")\n",
    "short[\"Size\"] = \"short\"\n",
    "long[\"Size\"] = \"long\"\n",
    "\n",
    "# divide by frequency\n",
    "lh = long[long[\"Zipf Frequency\"] >= 4]\n",
    "ll = long[long[\"Zipf Frequency\"] <= 3.5]\n",
    "sh = short[short[\"Zipf Frequency\"] >= 4]\n",
    "sl = short[short[\"Zipf Frequency\"] <= 3.5]\n",
    "\n",
    "# save files if necessary\n",
    "# lh.to_csv(\"./long_high.csv\", index=False)\n",
    "# ll.to_csv(\"./long_low.csv\", index=False)\n",
    "# sh.to_csv(\"./short_high.csv\", index=False)\n",
    "# sl.to_csv(\"./short_low.csv\", index=False)"
   ]
  },
  {
   "cell_type": "code",
   "execution_count": 2,
   "metadata": {},
   "outputs": [
    {
     "name": "stdout",
     "output_type": "stream",
     "text": [
      "100 100 100 100 100 100 100 100\n",
      "100 100 100 100\n",
      "Condition\n",
      "RLCH    100\n",
      "RLCL    100\n",
      "RLSH    100\n",
      "RLSL    100\n",
      "RSCH    100\n",
      "RSCL    100\n",
      "RSSH    100\n",
      "RSSL    100\n",
      "PLC     100\n",
      "PLS     100\n",
      "PSC     100\n",
      "PSS     100\n",
      "Name: count, dtype: int64\n"
     ]
    }
   ],
   "source": [
    "rlch = pd.read_csv(\"../stimuli/handmade/test_data/rlch.csv\", index_col=0).sample(100)\n",
    "rlcl = pd.read_csv(\"../stimuli/handmade/test_data/rlcl.csv\", index_col=0).sample(100)\n",
    "rlsh = pd.read_csv(\"../stimuli/handmade/test_data/rlsh.csv\", index_col=0).sample(100)\n",
    "rlsl = pd.read_csv(\"../stimuli/handmade/test_data/rlsl.csv\", index_col=0).sample(100)\n",
    "rsch = pd.read_csv(\"../stimuli/handmade/test_data/rsch.csv\", index_col=0).sample(100)\n",
    "rscl = pd.read_csv(\"../stimuli/handmade/test_data/rscl.csv\", index_col=0).sample(100)\n",
    "rssh = pd.read_csv(\"../stimuli/handmade/test_data/rssh.csv\", index_col=0).sample(100)\n",
    "rssl = pd.read_csv(\"../stimuli/handmade/test_data/rssl.csv\", index_col=0).sample(100)\n",
    "print(len(rlch), len(rlcl), len(rlsh), len(rlsl), len(rsch), len(rscl), len(rssh), len(rssl))\n",
    "\n",
    "rlch[\"Condition\"] = \"RLCH\"\n",
    "rlch[\"Morphology\"] = \"complex\"\n",
    "rlcl[\"Condition\"] = \"RLCL\"\n",
    "rlcl[\"Morphology\"] = \"complex\"\n",
    "rlsh[\"Condition\"] = \"RLSH\"\n",
    "rlsh[\"Morphology\"] = \"simple\"\n",
    "rlsl[\"Condition\"] = \"RLSL\"\n",
    "rlsl[\"Morphology\"] = \"simple\"\n",
    "rsch[\"Condition\"] = \"RSCH\"\n",
    "rsch[\"Morphology\"] = \"complex\"\n",
    "rscl[\"Condition\"] = \"RSCL\"\n",
    "rscl[\"Morphology\"] = \"complex\"\n",
    "rssh[\"Condition\"] = \"RSSH\"\n",
    "rssh[\"Morphology\"] = \"simple\"\n",
    "rssl[\"Condition\"] = \"RSSL\"\n",
    "rssl[\"Morphology\"] = \"simple\"\n",
    "\n",
    "plc = pd.read_csv(\"../stimuli/handmade/test_data/plc.csv\", index_col=0).sample(100)\n",
    "pls = pd.read_csv(\"../stimuli/handmade/test_data/pls.csv\", index_col=0).sample(100)\n",
    "psc = pd.read_csv(\"../stimuli/handmade/test_data/psc.csv\", index_col=0).sample(100)\n",
    "pss = pd.read_csv(\"../stimuli/handmade/test_data/pss.csv\", index_col=0).sample(100)\n",
    "print(len(plc), len(pls), len(psc), len(pss))\n",
    "\n",
    "test_equalized = pd.concat([rlch, rlcl, rlsh, rlsl, rsch, rscl, rssh, rssl, plc, pls, psc, pss], ignore_index=True)\n",
    "order = [\n",
    "    \"Word\", \"Condition\", \"Lexicality\", \"Size\", \"Morphology\",\n",
    "    \"Frequency\", \"Length\", \"Zipf Frequency\", \"Phonemes\",\n",
    "    \"No Stress\", \"Part of Speech\"\n",
    "]\n",
    "test_equalized = test_equalized[order]\n",
    "print(test_equalized[\"Condition\"].value_counts())\n",
    "\n",
    "test_equalized.to_csv(\"../stimuli/handmade/test_equalized.csv\")"
   ]
  },
  {
   "cell_type": "code",
   "execution_count": 7,
   "metadata": {},
   "outputs": [
    {
     "name": "stdout",
     "output_type": "stream",
     "text": [
      "Length  Morphology\n",
      "4       simple        161\n",
      "6       simple        155\n",
      "5       complex       131\n",
      "7       simple        123\n",
      "5       simple        119\n",
      "4       complex       116\n",
      "6       complex       101\n",
      "3       simple         89\n",
      "7       complex        72\n",
      "8       simple         66\n",
      "3       complex        59\n",
      "8       complex        55\n",
      "9       complex        20\n",
      "        simple         15\n",
      "Name: count, dtype: int64\n"
     ]
    }
   ],
   "source": [
    "plc = pd.read_csv(\"../stimuli/handmade/test_data/plc.csv\", index_col=0)\n",
    "pls = pd.read_csv(\"../stimuli/handmade/test_data/pls.csv\", index_col=0)\n",
    "psc = pd.read_csv(\"../stimuli/handmade/test_data/psc.csv\", index_col=0)\n",
    "pss = pd.read_csv(\"../stimuli/handmade/test_data/pss.csv\", index_col=0)\n",
    "\n",
    "pseudo_complete = pd.concat([plc, pls, psc, pss], ignore_index=True)\n",
    "print(pseudo_complete[[\"Length\", \"Morphology\"]].sort_values(\"Length\").value_counts())"
   ]
  }
 ],
 "metadata": {
  "kernelspec": {
   "display_name": "swpm2",
   "language": "python",
   "name": "python3"
  },
  "language_info": {
   "codemirror_mode": {
    "name": "ipython",
    "version": 3
   },
   "file_extension": ".py",
   "mimetype": "text/x-python",
   "name": "python",
   "nbconvert_exporter": "python",
   "pygments_lexer": "ipython3",
   "version": "3.10.16"
  }
 },
 "nbformat": 4,
 "nbformat_minor": 2
}
